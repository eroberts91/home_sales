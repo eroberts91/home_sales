{
  "cells": [
    {
      "cell_type": "code",
      "execution_count": null,
      "metadata": {
        "colab": {
          "base_uri": "https://localhost:8080/"
        },
        "id": "a_KW73O2e3dw",
        "outputId": "84a06bbe-9496-4783-ddb6-d65772b32fd8"
      },
      "outputs": [
        {
          "output_type": "stream",
          "name": "stdout",
          "text": [
            "\r0% [Working]\r            \rGet:1 http://security.ubuntu.com/ubuntu jammy-security InRelease [110 kB]\n",
            "Get:2 https://developer.download.nvidia.com/compute/cuda/repos/ubuntu2204/x86_64  InRelease [1,581 B]\n",
            "Hit:3 http://archive.ubuntu.com/ubuntu jammy InRelease\n",
            "Get:4 https://cloud.r-project.org/bin/linux/ubuntu jammy-cran40/ InRelease [3,626 B]\n",
            "Get:5 http://archive.ubuntu.com/ubuntu jammy-updates InRelease [119 kB]\n",
            "Get:6 https://developer.download.nvidia.com/compute/cuda/repos/ubuntu2204/x86_64  Packages [736 kB]\n",
            "Hit:7 https://ppa.launchpadcontent.net/c2d4u.team/c2d4u4.0+/ubuntu jammy InRelease\n",
            "Hit:8 https://ppa.launchpadcontent.net/deadsnakes/ppa/ubuntu jammy InRelease\n",
            "Get:9 http://archive.ubuntu.com/ubuntu jammy-backports InRelease [109 kB]\n",
            "Hit:10 https://ppa.launchpadcontent.net/graphics-drivers/ppa/ubuntu jammy InRelease\n",
            "Hit:11 https://ppa.launchpadcontent.net/ubuntugis/ppa/ubuntu jammy InRelease\n",
            "Get:12 http://security.ubuntu.com/ubuntu jammy-security/universe amd64 Packages [1,079 kB]\n",
            "Get:13 http://security.ubuntu.com/ubuntu jammy-security/main amd64 Packages [1,569 kB]\n",
            "Get:14 http://archive.ubuntu.com/ubuntu jammy-updates/universe amd64 Packages [1,352 kB]\n",
            "Get:15 http://archive.ubuntu.com/ubuntu jammy-updates/main amd64 Packages [1,848 kB]\n",
            "Get:16 http://archive.ubuntu.com/ubuntu jammy-backports/main amd64 Packages [80.9 kB]\n",
            "Get:17 http://archive.ubuntu.com/ubuntu jammy-backports/universe amd64 Packages [33.3 kB]\n",
            "Fetched 7,042 kB in 3s (2,218 kB/s)\n",
            "Reading package lists... Done\n"
          ]
        }
      ],
      "source": [
        "import os\n",
        "# Find the latest version of spark 3.x  from http://www.apache.org/dist/spark/ and enter as the spark version\n",
        "# For example:\n",
        "# spark_version = 'spark-3.5.1'\n",
        "spark_version = 'spark-3.5.1'\n",
        "os.environ['SPARK_VERSION']=spark_version\n",
        "\n",
        "# Install Spark and Java\n",
        "!apt-get update\n",
        "!apt-get install openjdk-11-jdk-headless -qq > /dev/null\n",
        "!wget -q http://www.apache.org/dist/spark/$SPARK_VERSION/$SPARK_VERSION-bin-hadoop3.tgz\n",
        "!tar xf $SPARK_VERSION-bin-hadoop3.tgz\n",
        "!pip install -q findspark\n",
        "\n",
        "# Set Environment Variables\n",
        "os.environ[\"JAVA_HOME\"] = \"/usr/lib/jvm/java-11-openjdk-amd64\"\n",
        "os.environ[\"SPARK_HOME\"] = f\"/content/{spark_version}-bin-hadoop3\"\n",
        "\n",
        "# Start a SparkSession\n",
        "import findspark\n",
        "findspark.init()"
      ]
    },
    {
      "cell_type": "code",
      "execution_count": null,
      "metadata": {
        "id": "2XbWNf1Te5fM"
      },
      "outputs": [],
      "source": [
        "# Import packages\n",
        "from pyspark.sql import SparkSession\n",
        "import time\n",
        "\n",
        "# Create a SparkSession\n",
        "spark = SparkSession.builder.appName(\"SparkSQL\").config(\"spark.driver.memory\", \"2g\").getOrCreate()"
      ]
    },
    {
      "cell_type": "code",
      "execution_count": null,
      "metadata": {
        "id": "wOJqxG_RPSwp",
        "colab": {
          "base_uri": "https://localhost:8080/"
        },
        "outputId": "013cf0db-6874-4113-b528-edb61a90c194"
      },
      "outputs": [
        {
          "output_type": "execute_result",
          "data": {
            "text/plain": [
              "[('id', 'string'),\n",
              " ('date', 'string'),\n",
              " ('date_built', 'string'),\n",
              " ('price', 'string'),\n",
              " ('bedrooms', 'string'),\n",
              " ('bathrooms', 'string'),\n",
              " ('sqft_living', 'string'),\n",
              " ('sqft_lot', 'string'),\n",
              " ('floors', 'string'),\n",
              " ('waterfront', 'string'),\n",
              " ('view', 'string')]"
            ]
          },
          "metadata": {},
          "execution_count": 8
        }
      ],
      "source": [
        "# 1. Read in the AWS S3 bucket into a DataFrame.\n",
        "from pyspark import SparkFiles\n",
        "url = \"https://2u-data-curriculum-team.s3.amazonaws.com/dataviz-classroom/v1.2/22-big-data/home_sales_revised.csv\"\n",
        "spark.sparkContext.addFile(url)\n",
        "sales_df = spark.read.csv(SparkFiles.get(\"home_sales_revised.csv\"), sep=\",\", header=True)\n",
        "sales_df.dtypes\n"
      ]
    },
    {
      "cell_type": "code",
      "execution_count": null,
      "metadata": {
        "id": "RoljcJ7WPpnm"
      },
      "outputs": [],
      "source": [
        "# 2. Create a temporary view of the DataFrame.\n",
        "sales_df.createOrReplaceTempView('home_sales')"
      ]
    },
    {
      "cell_type": "code",
      "execution_count": null,
      "metadata": {
        "id": "L6fkwOeOmqvq",
        "colab": {
          "base_uri": "https://localhost:8080/"
        },
        "outputId": "d32ef043-905c-4932-9f92-246e901a6693"
      },
      "outputs": [
        {
          "output_type": "stream",
          "name": "stdout",
          "text": [
            "+--------------------+----------+\n",
            "|round(avg(price), 2)|year(date)|\n",
            "+--------------------+----------+\n",
            "|296363.88           |2022      |\n",
            "|301819.44           |2021      |\n",
            "|298353.78           |2020      |\n",
            "|300263.7            |2019      |\n",
            "+--------------------+----------+\n",
            "\n"
          ]
        }
      ],
      "source": [
        "# 3. What is the average price for a four bedroom house sold per year, rounded to two decimal places?\n",
        "spark.sql(\"\"\"SELECT ROUND(AVG(price),2), YEAR(date)\n",
        "             from home_sales\n",
        "             where bedrooms == 4\n",
        "             group by YEAR(date)\n",
        "             ORDER BY YEAR(date) desc\"\"\").show(truncate=False)"
      ]
    },
    {
      "cell_type": "code",
      "execution_count": null,
      "metadata": {
        "id": "l8p_tUS8h8it",
        "colab": {
          "base_uri": "https://localhost:8080/"
        },
        "outputId": "b3a8753d-4e89-4356-d7b9-5b6c58115289"
      },
      "outputs": [
        {
          "output_type": "stream",
          "name": "stdout",
          "text": [
            "+--------------------+----------+\n",
            "|round(avg(price), 2)|year(date)|\n",
            "+--------------------+----------+\n",
            "|290780.14           |2022      |\n",
            "|292627.68           |2021      |\n",
            "|289659.97           |2020      |\n",
            "|292438.24           |2019      |\n",
            "+--------------------+----------+\n",
            "\n"
          ]
        }
      ],
      "source": [
        "# 4. What is the average price of a home for each year the home was built,\n",
        "# that have 3 bedrooms and 3 bathrooms, rounded to two decimal places?\n",
        "spark.sql(\"\"\"SELECT ROUND(AVG(price),2), YEAR(date)\n",
        "             from home_sales\n",
        "             where bedrooms == 4 AND bathrooms == 3\n",
        "             group by YEAR(date)\n",
        "             ORDER BY YEAR(date) desc\"\"\").show(truncate=False)\n"
      ]
    },
    {
      "cell_type": "code",
      "execution_count": null,
      "metadata": {
        "id": "Y-Eytz64liDU",
        "colab": {
          "base_uri": "https://localhost:8080/"
        },
        "outputId": "fd9deb90-337f-4f28-9b3e-af0dd9001d8c"
      },
      "outputs": [
        {
          "output_type": "stream",
          "name": "stdout",
          "text": [
            "+--------------------+----------+\n",
            "|round(avg(price), 2)|year(date)|\n",
            "+--------------------+----------+\n",
            "|295505.36           |2022      |\n",
            "|296672.69           |2021      |\n",
            "|289891.27           |2020      |\n",
            "|301672.15           |2019      |\n",
            "+--------------------+----------+\n",
            "\n"
          ]
        }
      ],
      "source": [
        "# 5. What is the average price of a home for each year the home was built,\n",
        "# that have 3 bedrooms, 3 bathrooms, with two floors,\n",
        "# and are greater than or equal to 2,000 square feet, rounded to two decimal places?\n",
        "spark.sql(\"\"\"SELECT ROUND(AVG(price),2), YEAR(date)\n",
        "             from home_sales\n",
        "             where bedrooms == 4 AND bathrooms == 3 AND floors == 2 AND sqft_living >= 2000\n",
        "             group by YEAR(date)\n",
        "             ORDER BY YEAR(date) desc\"\"\").show(truncate=False)\n"
      ]
    },
    {
      "cell_type": "code",
      "execution_count": null,
      "metadata": {
        "colab": {
          "base_uri": "https://localhost:8080/"
        },
        "id": "GUrfgOX1pCRd",
        "outputId": "8ef0df21-f3fc-4fea-b259-780dfdbc365a"
      },
      "outputs": [
        {
          "output_type": "stream",
          "name": "stdout",
          "text": [
            "+--------------------+----+\n",
            "|round(avg(price), 2)|view|\n",
            "+--------------------+----+\n",
            "|1026669.5           |100 |\n",
            "|1061201.42          |99  |\n",
            "|1053739.33          |98  |\n",
            "|1129040.15          |97  |\n",
            "|1017815.92          |96  |\n",
            "|1054325.6           |95  |\n",
            "|1033536.2           |94  |\n",
            "|1026006.06          |93  |\n",
            "|970402.55           |92  |\n",
            "|1137372.73          |91  |\n",
            "|1062654.16          |90  |\n",
            "|1107839.15          |89  |\n",
            "|1031719.35          |88  |\n",
            "|1072285.2           |87  |\n",
            "|1070444.25          |86  |\n",
            "|1056336.74          |85  |\n",
            "|1117233.13          |84  |\n",
            "|1033965.93          |83  |\n",
            "|1063498.0           |82  |\n",
            "|1053472.79          |81  |\n",
            "+--------------------+----+\n",
            "only showing top 20 rows\n",
            "\n",
            "--- 0.9422791004180908 seconds ---\n"
          ]
        }
      ],
      "source": [
        "# 6. What is the average price of a home per \"view\" rating, rounded to two decimal places,\n",
        "# having an average home price greater than or equal to $350,000? Order by descending view rating.\n",
        "# Although this is a small dataset, determine the run time for this query.\n",
        "start_time = time.time()\n",
        "\n",
        "spark.sql(\"\"\"SELECT ROUND(AVG(price),2), view\n",
        "             from home_sales\n",
        "             where price >= 350000\n",
        "             group by view\n",
        "             ORDER BY CAST(view AS int) desc\"\"\").show(truncate=False)\n",
        "\n",
        "print(\"--- %s seconds ---\" % (time.time() - start_time))"
      ]
    },
    {
      "cell_type": "code",
      "execution_count": null,
      "metadata": {
        "id": "KAhk3ZD2tFy8",
        "colab": {
          "base_uri": "https://localhost:8080/"
        },
        "outputId": "d94fac8e-6718-40ed-d551-1e859d7bb09d"
      },
      "outputs": [
        {
          "output_type": "execute_result",
          "data": {
            "text/plain": [
              "DataFrame[]"
            ]
          },
          "metadata": {},
          "execution_count": 17
        }
      ],
      "source": [
        "# 7. Cache the the temporary table home_sales.\n",
        "spark.sql(\"cache table home_sales\")"
      ]
    },
    {
      "cell_type": "code",
      "execution_count": null,
      "metadata": {
        "id": "4opVhbvxtL-i",
        "colab": {
          "base_uri": "https://localhost:8080/"
        },
        "outputId": "f2ccc94c-738d-424b-d6e1-57b87c7927f0"
      },
      "outputs": [
        {
          "output_type": "execute_result",
          "data": {
            "text/plain": [
              "True"
            ]
          },
          "metadata": {},
          "execution_count": 18
        }
      ],
      "source": [
        "# 8. Check if the table is cached.\n",
        "spark.catalog.isCached('home_sales')"
      ]
    },
    {
      "cell_type": "code",
      "execution_count": null,
      "metadata": {
        "colab": {
          "base_uri": "https://localhost:8080/"
        },
        "id": "5GnL46lwTSEk",
        "outputId": "e0f20e29-3415-4eb0-8bdb-611eea1f3674"
      },
      "outputs": [
        {
          "output_type": "stream",
          "name": "stdout",
          "text": [
            "+--------------------+----+\n",
            "|round(avg(price), 2)|view|\n",
            "+--------------------+----+\n",
            "|1026669.5           |100 |\n",
            "|1061201.42          |99  |\n",
            "|1053739.33          |98  |\n",
            "|1129040.15          |97  |\n",
            "|1017815.92          |96  |\n",
            "|1054325.6           |95  |\n",
            "|1033536.2           |94  |\n",
            "|1026006.06          |93  |\n",
            "|970402.55           |92  |\n",
            "|1137372.73          |91  |\n",
            "|1062654.16          |90  |\n",
            "|1107839.15          |89  |\n",
            "|1031719.35          |88  |\n",
            "|1072285.2           |87  |\n",
            "|1070444.25          |86  |\n",
            "|1056336.74          |85  |\n",
            "|1117233.13          |84  |\n",
            "|1033965.93          |83  |\n",
            "|1063498.0           |82  |\n",
            "|1053472.79          |81  |\n",
            "+--------------------+----+\n",
            "only showing top 20 rows\n",
            "\n",
            "--- 0.5386006832122803 seconds ---\n"
          ]
        }
      ],
      "source": [
        "# 9. Using the cached data, run the last query above, that calculates\n",
        "# the average price of a home per \"view\" rating, rounded to two decimal places,\n",
        "# having an average home price greater than or equal to $350,000.\n",
        "# Determine the runtime and compare it to the uncached runtime.\n",
        "start_time = time.time()\n",
        "\n",
        "spark.sql(\"\"\"SELECT ROUND(AVG(price),2), view\n",
        "             from home_sales\n",
        "             where price >= 350000\n",
        "             group by view\n",
        "             ORDER BY CAST(view AS int) desc\"\"\").show(truncate=False)\n",
        "\n",
        "print(\"--- %s seconds ---\" % (time.time() - start_time))"
      ]
    },
    {
      "cell_type": "code",
      "execution_count": null,
      "metadata": {
        "id": "Qm12WN9isHBR"
      },
      "outputs": [],
      "source": [
        "# 10. Partition by the \"date_built\" field on the formatted parquet home sales data\n",
        "sales_df.write.partitionBy(\"date_built\").mode(\"overwrite\").parquet(\"home_sales_partitioned\")"
      ]
    },
    {
      "cell_type": "code",
      "execution_count": null,
      "metadata": {
        "id": "AZ7BgY61sRqY"
      },
      "outputs": [],
      "source": [
        "# 11. Read the parquet formatted data.\n",
        "p_sales_df=spark.read.parquet('home_sales_partitioned')"
      ]
    },
    {
      "cell_type": "code",
      "execution_count": null,
      "metadata": {
        "id": "J6MJkHfvVcvh"
      },
      "outputs": [],
      "source": [
        "# 12. Create a temporary table for the parquet data.\n",
        "p_sales_df.createOrReplaceTempView('p_home_sales')"
      ]
    },
    {
      "cell_type": "code",
      "execution_count": null,
      "metadata": {
        "colab": {
          "base_uri": "https://localhost:8080/"
        },
        "id": "G_Vhb52rU1Sn",
        "outputId": "139cefcc-2352-43e1-9720-b400917539eb"
      },
      "outputs": [
        {
          "output_type": "stream",
          "name": "stdout",
          "text": [
            "+--------------------+----+\n",
            "|round(avg(price), 2)|view|\n",
            "+--------------------+----+\n",
            "|1026669.5           |100 |\n",
            "|1061201.42          |99  |\n",
            "|1053739.33          |98  |\n",
            "|1129040.15          |97  |\n",
            "|1017815.92          |96  |\n",
            "|1054325.6           |95  |\n",
            "|1033536.2           |94  |\n",
            "|1026006.06          |93  |\n",
            "|970402.55           |92  |\n",
            "|1137372.73          |91  |\n",
            "|1062654.16          |90  |\n",
            "|1107839.15          |89  |\n",
            "|1031719.35          |88  |\n",
            "|1072285.2           |87  |\n",
            "|1070444.25          |86  |\n",
            "|1056336.74          |85  |\n",
            "|1117233.13          |84  |\n",
            "|1033965.93          |83  |\n",
            "|1063498.0           |82  |\n",
            "|1053472.79          |81  |\n",
            "+--------------------+----+\n",
            "only showing top 20 rows\n",
            "\n",
            "--- 1.563511848449707 seconds ---\n"
          ]
        }
      ],
      "source": [
        "# 13. Using the parquet DataFrame, run the last query above, that calculates\n",
        "# the average price of a home per \"view\" rating, rounded to two decimal places,\n",
        "# having an average home price greater than or equal to $350,000.\n",
        "# Determine the runtime and compare it to the cached runtime.\n",
        "start_time = time.time()\n",
        "\n",
        "spark.sql(\"\"\"SELECT ROUND(AVG(price),2), view\n",
        "             from p_home_sales\n",
        "             where price >= 350000\n",
        "             group by view\n",
        "             ORDER BY CAST(view AS int) desc\"\"\").show(truncate=False)\n",
        "\n",
        "print(\"--- %s seconds ---\" % (time.time() - start_time))"
      ]
    },
    {
      "cell_type": "code",
      "execution_count": null,
      "metadata": {
        "id": "hjjYzQGjtbq8",
        "colab": {
          "base_uri": "https://localhost:8080/"
        },
        "outputId": "74d4200f-75f8-4e97-c1f0-ea8edbbcc63b"
      },
      "outputs": [
        {
          "output_type": "execute_result",
          "data": {
            "text/plain": [
              "DataFrame[]"
            ]
          },
          "metadata": {},
          "execution_count": 24
        }
      ],
      "source": [
        "# 14. Uncache the home_sales temporary table.\n",
        "spark.sql(\"uncache table home_sales\")"
      ]
    },
    {
      "cell_type": "code",
      "execution_count": null,
      "metadata": {
        "id": "Sy9NBvO7tlmm",
        "colab": {
          "base_uri": "https://localhost:8080/"
        },
        "outputId": "b205a927-5dcc-4d4e-ec6a-e6222bdce4f1"
      },
      "outputs": [
        {
          "output_type": "execute_result",
          "data": {
            "text/plain": [
              "False"
            ]
          },
          "metadata": {},
          "execution_count": 25
        }
      ],
      "source": [
        "# 15. Check if the home_sales is no longer cached\n",
        "spark.catalog.isCached(\"home_sales\")"
      ]
    }
  ],
  "metadata": {
    "colab": {
      "provenance": []
    },
    "gpuClass": "standard",
    "kernelspec": {
      "display_name": "Python 3 (ipykernel)",
      "language": "python",
      "name": "python3"
    },
    "language_info": {
      "codemirror_mode": {
        "name": "ipython",
        "version": 3
      },
      "file_extension": ".py",
      "mimetype": "text/x-python",
      "name": "python",
      "nbconvert_exporter": "python",
      "pygments_lexer": "ipython3",
      "version": "3.10.4"
    },
    "nteract": {
      "version": "0.28.0"
    }
  },
  "nbformat": 4,
  "nbformat_minor": 0
}